{
 "cells": [
  {
   "cell_type": "code",
   "execution_count": 1,
   "metadata": {},
   "outputs": [],
   "source": [
    "import requests\n",
    "from pprint import pprint\n",
    "import re,json"
   ]
  },
  {
   "cell_type": "code",
   "execution_count": 4,
   "metadata": {},
   "outputs": [],
   "source": [
    "#Function to check the API connection \n",
    "def fetch_data_from_api(api_url):\n",
    "    try:\n",
    "        response = requests.get(api_url)\n",
    "        # Check if the request was successful (status code 200)\n",
    "        if response.status_code == 200:\n",
    "            data = response.json()  # Assuming the API returns JSON data\n",
    "            return data\n",
    "        else:\n",
    "            print(\"Failed to fetch data from API. Status code:\", response.status_code)\n",
    "            return None\n",
    "    except Exception as e:\n",
    "        print(\"An error occurred:\", e)\n",
    "        return None"
   ]
  },
  {
   "cell_type": "code",
   "execution_count": 60,
   "metadata": {},
   "outputs": [
    {
     "name": "stdout",
     "output_type": "stream",
     "text": [
      "Data Captured\n"
     ]
    }
   ],
   "source": [
    "# Example usage:\n",
    "api_url = \"https://api.mfapi.in/mf\"  # Replace this with the actual API endpoint\n",
    "data = fetch_data_from_api(api_url)\n",
    "\n",
    "if data:\n",
    "    # Do something with the fetched data\n",
    "    print(\"Data Captured\")\n",
    "else:\n",
    "    print(\"Failed to fetch data from the API.\")"
   ]
  },
  {
   "cell_type": "code",
   "execution_count": 61,
   "metadata": {},
   "outputs": [],
   "source": [
    "required_keywords = [[\"Direct\",\"Growth\",\"ELSS\"], [\"direct\", \"growth\",\"ELSS\"],[\"Direct\",\"Growth\",\"TAX\"]]\n",
    "non_req_keywords = [[\"Bonus\"]]"
   ]
  },
  {
   "cell_type": "code",
   "execution_count": 77,
   "metadata": {},
   "outputs": [],
   "source": [
    "tax_saving_lst =[]\n",
    "for fund in data:\n",
    "    for substrings in required_keywords:\n",
    "        if all(substring in fund['schemeName'] for substring in substrings):\n",
    "            for nonstrings in non_req_keywords:\n",
    "                if all(string not in fund['schemeName'] for string in nonstrings):\n",
    "                    tax_saving_lst.append(fund)"
   ]
  },
  {
   "cell_type": "code",
   "execution_count": 78,
   "metadata": {},
   "outputs": [
    {
     "name": "stdout",
     "output_type": "stream",
     "text": [
      "[{'schemeCode': 111549,\n",
      "  'schemeName': 'Quantum ELSS Tax Saver Fund - Direct Plan Growth Option'},\n",
      " {'schemeCode': 118473,\n",
      "  'schemeName': 'BANDHAN ELSS Tax Saver Fund - Direct Plan - Growth'},\n",
      " {'schemeCode': 118473,\n",
      "  'schemeName': 'IDFC Tax Advantage  (ELSS) Fund-Direct Plan-Growth'},\n",
      " {'schemeCode': 118473,\n",
      "  'schemeName': 'BANDHAN Tax Advantage (ELSS) Fund-Direct Plan-Growth'},\n",
      " {'schemeCode': 118473,\n",
      "  'schemeName': 'IDFC Tax Advantage  (ELSS) Fund-Direct Plan-Growth '},\n",
      " {'schemeCode': 118540,\n",
      "  'schemeName': 'Franklin India TAXSHIELD - Direct - Growth'},\n",
      " {'schemeCode': 118540,\n",
      "  'schemeName': 'Franklin India ELSS Tax Saver Fund - Direct - Growth'},\n",
      " {'schemeCode': 118620,\n",
      "  'schemeName': 'Edelweiss ELSS Tax Saver Fund - Direct Plan-Growth Option'},\n",
      " {'schemeCode': 118866,\n",
      "  'schemeName': 'Taurus ELSS Tax Saver Fund - Direct Plan - Growth'},\n",
      " {'schemeCode': 119060,\n",
      "  'schemeName': 'HDFC ELSS Tax saver - Growth Option - Direct Plan'},\n",
      " {'schemeCode': 119242,\n",
      "  'schemeName': 'DSP ELSS Tax Saver Fund - Direct Plan - Growth'},\n",
      " {'schemeCode': 119307,\n",
      "  'schemeName': 'Union Tax Saver (ELSS) Fund - Direct Plan - Growth Option'},\n",
      " {'schemeCode': 119307,\n",
      "  'schemeName': 'Union ELSS Tax Saver Fund - Direct Plan - Growth Option'},\n",
      " {'schemeCode': 119351,\n",
      "  'schemeName': 'BANK OF INDIA ELSS Tax Saver -Direct Plan- Growth'},\n",
      " {'schemeCode': 119544,\n",
      "  'schemeName': 'Aditya Birla Sun Life ELSS Tax Saver Fund - Growth - Direct '\n",
      "                'Plan'},\n",
      " {'schemeCode': 119544,\n",
      "  'schemeName': \"Aditya Birla Sun Life ELSS Tax Relief '96 - Growth - Direct \"\n",
      "                'Plan'},\n",
      " {'schemeCode': 119549,\n",
      "  'schemeName': 'Sundaram Diversified Equity (ELSS) Direct Plan - Growth'},\n",
      " {'schemeCode': 120270,\n",
      "  'schemeName': 'LIC MF ELSS Tax Saver-Direct Plan-Growth'},\n",
      " {'schemeCode': 120270, 'schemeName': 'LIC MF ELSS-Direct Plan-Growth'},\n",
      " {'schemeCode': 120416,\n",
      "  'schemeName': 'Invesco India ELSS Tax Saver Fund - Direct Plan - Growth'},\n",
      " {'schemeCode': 120494,\n",
      "  'schemeName': 'JM ELSS Tax Saver Fund (Direct) - Growth Option'},\n",
      " {'schemeCode': 120503,\n",
      "  'schemeName': 'Axis ELSS Tax Saver Fund - Direct Plan - Growth Option'},\n",
      " {'schemeCode': 120592,\n",
      "  'schemeName': 'ICICI Prudential ELSS Tax Saver Fund - Direct Plan - Growth'},\n",
      " {'schemeCode': 120715,\n",
      "  'schemeName': 'UTI ELSS Tax Saver Fund - Direct Plan - Growth Option'},\n",
      " {'schemeCode': 120847,\n",
      "  'schemeName': 'quant ELSS Tax Saver Fund - Growth Option - Direct Plan'},\n",
      " {'schemeCode': 132756,\n",
      "  'schemeName': 'Tata ELSS Tax Saver Fund-Growth-Direct Plan'},\n",
      " {'schemeCode': 133386,\n",
      "  'schemeName': 'Motilal Oswal ELSS Tax Saver Fund - Direct Plan - Growth '\n",
      "                'Option'},\n",
      " {'schemeCode': 134045,\n",
      "  'schemeName': 'Baroda ELSS 96 Plan B(Direct) -Growth Option'},\n",
      " {'schemeCode': 134045,\n",
      "  'schemeName': 'Baroda Pioneer ELSS 96 Plan B(Direct) -Growth Option'},\n",
      " {'schemeCode': 135601,\n",
      "  'schemeName': 'PGIM India ELSS Tax Saver Fund - Direct Plan - Growth Option'},\n",
      " {'schemeCode': 135654,\n",
      "  'schemeName': 'Navi ELSS Tax Saver Fund- Direct Plan- Growth Option'},\n",
      " {'schemeCode': 135781,\n",
      "  'schemeName': 'Mirae Asset ELSS Tax Saver Fund - Direct Plan - Growth'},\n",
      " {'schemeCode': 139781,\n",
      "  'schemeName': 'Mahindra Manulife ELSS Tax Saver Fund - Direct Plan -Growth'},\n",
      " {'schemeCode': 139781,\n",
      "  'schemeName': 'Mahindra Manulife ELSS Fund - Direct Plan -Growth'},\n",
      " {'schemeCode': 139781,\n",
      "  'schemeName': 'Mahindra Manulife ELSS Kar Bachat Yojana Direct Plan - '\n",
      "                'Growth'},\n",
      " {'schemeCode': 139781,\n",
      "  'schemeName': 'Mahindra Manulife ELSS Kar Bachat Yojana - Direct Plan '\n",
      "                '-Growth'},\n",
      " {'schemeCode': 141808,\n",
      "  'schemeName': 'Groww ELSS Tax Saver Fund (formerly known as Indiabulls Tax '\n",
      "                'Savings Fund)- Direct Plan- Growth Option'},\n",
      " {'schemeCode': 145819,\n",
      "  'schemeName': 'Shriram ELSS Tax Saver Fund - Direct Growth'},\n",
      " {'schemeCode': 147481,\n",
      "  'schemeName': 'Parag Parikh ELSS Tax Saver Fund- Direct Growth'},\n",
      " {'schemeCode': 147541,\n",
      "  'schemeName': 'ITI ELSS Tax Saver Fund - Direct Plan - Growth Option'},\n",
      " {'schemeCode': 149570,\n",
      "  'schemeName': 'Sundaram ELSS Tax Saver Fund Direct Plan Growth'},\n",
      " {'schemeCode': 150159,\n",
      "  'schemeName': 'BARODA BNP PARIBAS ELSS Tax Saver Fund - Direct Plan - Growth '\n",
      "                'Option'},\n",
      " {'schemeCode': 150159,\n",
      "  'schemeName': 'BARODA BNP PARIBAS ELSS Fund - Direct Plan - Growth Option'},\n",
      " {'schemeCode': 150587,\n",
      "  'schemeName': 'WhiteOak Capital ELSS Tax Saver Fund Direct Plan Growth'},\n",
      " {'schemeCode': 150838,\n",
      "  'schemeName': 'Samco ELSS Tax Saver Fund - Direct Plan - Growth Option'},\n",
      " {'schemeCode': 151078,\n",
      "  'schemeName': 'HSBC ELSS Tax saver Fund - Direct Growth'},\n",
      " {'schemeCode': 151078, 'schemeName': 'HSBC ELSS Fund - Direct Growth'},\n",
      " {'schemeCode': 151165,\n",
      "  'schemeName': '360 ONE ELSS Nifty 50 Tax Saver Index Fund - Direct Plan - '\n",
      "                'Growth'},\n",
      " {'schemeCode': 151165,\n",
      "  'schemeName': '360 ONE ELSS Tax Saver Nifty 50 Index Fund - Direct Plan - '\n",
      "                'Growth'},\n",
      " {'schemeCode': 151165,\n",
      "  'schemeName': 'IIFL ELSS Nifty 50 Tax Saver Index Fund - Direct Plan - '\n",
      "                'Growth'},\n",
      " {'schemeCode': 151611, 'schemeName': 'NJ ELSS Tax Saver Scheme Direct Growth'},\n",
      " {'schemeCode': 152157,\n",
      "  'schemeName': 'Zerodha ELSS Tax Saver Nifty LargeMidcap 250 Index Fund - '\n",
      "                'Direct Plan - Growth option'}]\n"
     ]
    }
   ],
   "source": [
    "pprint(tax_saving_lst)"
   ]
  },
  {
   "cell_type": "code",
   "execution_count": 79,
   "metadata": {},
   "outputs": [
    {
     "name": "stdout",
     "output_type": "stream",
     "text": [
      "JSON file saved successfully.\n"
     ]
    }
   ],
   "source": [
    "file_name = \"output/mf_elss.json\"\n",
    "\n",
    "# Writing the JSON list to a file\n",
    "with open(file_name, 'w') as json_file:\n",
    "    json.dump(tax_saving_lst, json_file)\n",
    "\n",
    "print(\"JSON file saved successfully.\")"
   ]
  },
  {
   "cell_type": "code",
   "execution_count": null,
   "metadata": {},
   "outputs": [],
   "source": []
  },
  {
   "cell_type": "code",
   "execution_count": 4,
   "metadata": {},
   "outputs": [],
   "source": [
    "import os\n",
    "import json\n",
    "import requests\n",
    "\n",
    "class SchemeFilter:\n",
    "    def __init__(self, api_url):\n",
    "        self.api_url = api_url\n",
    "    \n",
    "    def fetch_api_data(self):\n",
    "        response = requests.get(self.api_url)\n",
    "        if response.status_code == 200:\n",
    "            return response.json()\n",
    "        else:\n",
    "            print(f\"Failed to fetch data from API. Status code: {response.status_code}\")\n",
    "            return None\n",
    "    \n",
    "    def filter_by_substring(self, filename, include_substrings=None, exclude_substrings=None):\n",
    "        api_data = self.fetch_api_data()\n",
    "        if api_data is None:\n",
    "            return\n",
    "        \n",
    "        if include_substrings is None:\n",
    "            include_substrings = []\n",
    "        if exclude_substrings is None:\n",
    "            exclude_substrings = []\n",
    "        \n",
    "        filtered_data = []\n",
    "        for scheme in api_data:\n",
    "            scheme_name = scheme[\"schemeName\"]\n",
    "            include_matched = any(all(substring in scheme_name for substring in sublist) for sublist in include_substrings)\n",
    "            exclude_matched = all(substring not in scheme_name for substring in exclude_substrings)\n",
    "            \n",
    "            if include_matched and exclude_matched:\n",
    "                filtered_data.append(scheme)\n",
    "        \n",
    "        output_dir = \"output\"\n",
    "        if not os.path.exists(output_dir):\n",
    "            os.makedirs(output_dir)\n",
    "        \n",
    "        output_path = os.path.join(output_dir, filename)\n",
    "        with open(output_path, \"w\") as outfile:\n",
    "            json.dump(filtered_data, outfile)"
   ]
  },
  {
   "cell_type": "code",
   "execution_count": 3,
   "metadata": {},
   "outputs": [],
   "source": [
    "# Example usage:\n",
    "api_url = \"https://api.mfapi.in/mf\"\n",
    "filter_instance = SchemeFilter(api_url)\n",
    "include_lists = [[\"Growth\", \"Direct\",\"TAX\"], [\"Growth\", \"Direct\",\"ELSS\"]]\n",
    "exclude_list = [\"Dividend\"]\n",
    "output_filename = \"elss_mf.json\"\n",
    "filter_instance.filter_by_substring(output_filename, include_substrings=include_lists, exclude_substrings=exclude_list)"
   ]
  },
  {
   "cell_type": "code",
   "execution_count": null,
   "metadata": {},
   "outputs": [],
   "source": []
  }
 ],
 "metadata": {
  "kernelspec": {
   "display_name": "mf_env",
   "language": "python",
   "name": "python3"
  },
  "language_info": {
   "codemirror_mode": {
    "name": "ipython",
    "version": 3
   },
   "file_extension": ".py",
   "mimetype": "text/x-python",
   "name": "python",
   "nbconvert_exporter": "python",
   "pygments_lexer": "ipython3",
   "version": "3.10.6"
  }
 },
 "nbformat": 4,
 "nbformat_minor": 2
}
