{
 "cells": [
  {
   "cell_type": "code",
   "execution_count": 53,
   "metadata": {},
   "outputs": [],
   "source": [
    "import requests\n",
    "from pprint import pprint\n",
    "import re,json"
   ]
  },
  {
   "cell_type": "code",
   "execution_count": 4,
   "metadata": {},
   "outputs": [],
   "source": [
    "#Function to check the API connection \n",
    "def fetch_data_from_api(api_url):\n",
    "    try:\n",
    "        response = requests.get(api_url)\n",
    "        # Check if the request was successful (status code 200)\n",
    "        if response.status_code == 200:\n",
    "            data = response.json()  # Assuming the API returns JSON data\n",
    "            return data\n",
    "        else:\n",
    "            print(\"Failed to fetch data from API. Status code:\", response.status_code)\n",
    "            return None\n",
    "    except Exception as e:\n",
    "        print(\"An error occurred:\", e)\n",
    "        return None"
   ]
  },
  {
   "cell_type": "code",
   "execution_count": 60,
   "metadata": {},
   "outputs": [
    {
     "name": "stdout",
     "output_type": "stream",
     "text": [
      "Data Captured\n"
     ]
    }
   ],
   "source": [
    "# Example usage:\n",
    "api_url = \"https://api.mfapi.in/mf\"  # Replace this with the actual API endpoint\n",
    "data = fetch_data_from_api(api_url)\n",
    "\n",
    "if data:\n",
    "    # Do something with the fetched data\n",
    "    print(\"Data Captured\")\n",
    "else:\n",
    "    print(\"Failed to fetch data from the API.\")"
   ]
  },
  {
   "cell_type": "code",
   "execution_count": 61,
   "metadata": {},
   "outputs": [],
   "source": [
    "required_keywords = [[\"Direct\",\"Growth\",\"ELSS\"], [\"direct\", \"growth\",\"ELSS\"],[\"Direct\",\"Growth\",\"TAX\"]]\n",
    "non_req_keywords = [[\"Bonus\"]]"
   ]
  },
  {
   "cell_type": "code",
   "execution_count": 69,
   "metadata": {},
   "outputs": [],
   "source": [
    "tax_saving_lst =[]\n",
    "for fund in data:\n",
    "    for substrings in required_keywords:\n",
    "        if all(substring in fund['schemeName'] for substring in substrings):\n",
    "            for nonstrings in non_req_keywords:\n",
    "                if all(string not in fund['schemeName'] for string in nonstrings):\n",
    "                    tax_saving_lst.append(fund)"
   ]
  },
  {
   "cell_type": "code",
   "execution_count": 70,
   "metadata": {},
   "outputs": [
    {
     "name": "stdout",
     "output_type": "stream",
     "text": [
      "[{'schemeCode': 111549,\n",
      "  'schemeName': 'Quantum ELSS Tax Saver Fund - Direct Plan Growth Option'},\n",
      " {'schemeCode': 118473,\n",
      "  'schemeName': 'BANDHAN ELSS Tax Saver Fund - Direct Plan - Growth'},\n",
      " {'schemeCode': 118473,\n",
      "  'schemeName': 'IDFC Tax Advantage  (ELSS) Fund-Direct Plan-Growth'},\n",
      " {'schemeCode': 118473,\n",
      "  'schemeName': 'BANDHAN Tax Advantage (ELSS) Fund-Direct Plan-Growth'},\n",
      " {'schemeCode': 118473,\n",
      "  'schemeName': 'IDFC Tax Advantage  (ELSS) Fund-Direct Plan-Growth '},\n",
      " {'schemeCode': 118540,\n",
      "  'schemeName': 'Franklin India TAXSHIELD - Direct - Growth'},\n",
      " {'schemeCode': 118540,\n",
      "  'schemeName': 'Franklin India ELSS Tax Saver Fund - Direct - Growth'},\n",
      " {'schemeCode': 118620,\n",
      "  'schemeName': 'Edelweiss ELSS Tax Saver Fund - Direct Plan-Growth Option'},\n",
      " {'schemeCode': 118866,\n",
      "  'schemeName': 'Taurus ELSS Tax Saver Fund - Direct Plan - Growth'},\n",
      " {'schemeCode': 119060,\n",
      "  'schemeName': 'HDFC ELSS Tax saver - Growth Option - Direct Plan'},\n",
      " {'schemeCode': 119242,\n",
      "  'schemeName': 'DSP ELSS Tax Saver Fund - Direct Plan - Growth'},\n",
      " {'schemeCode': 119307,\n",
      "  'schemeName': 'Union Tax Saver (ELSS) Fund - Direct Plan - Growth Option'},\n",
      " {'schemeCode': 119307,\n",
      "  'schemeName': 'Union ELSS Tax Saver Fund - Direct Plan - Growth Option'},\n",
      " {'schemeCode': 119351,\n",
      "  'schemeName': 'BANK OF INDIA ELSS Tax Saver -Direct Plan- Growth'},\n",
      " {'schemeCode': 119544,\n",
      "  'schemeName': 'Aditya Birla Sun Life ELSS Tax Saver Fund - Growth - Direct '\n",
      "                'Plan'},\n",
      " {'schemeCode': 119544,\n",
      "  'schemeName': \"Aditya Birla Sun Life ELSS Tax Relief '96 - Growth - Direct \"\n",
      "                'Plan'},\n",
      " {'schemeCode': 119549,\n",
      "  'schemeName': 'Sundaram Diversified Equity (ELSS) Direct Plan - Growth'},\n",
      " {'schemeCode': 120270,\n",
      "  'schemeName': 'LIC MF ELSS Tax Saver-Direct Plan-Growth'},\n",
      " {'schemeCode': 120270, 'schemeName': 'LIC MF ELSS-Direct Plan-Growth'},\n",
      " {'schemeCode': 120416,\n",
      "  'schemeName': 'Invesco India ELSS Tax Saver Fund - Direct Plan - Growth'},\n",
      " {'schemeCode': 120494,\n",
      "  'schemeName': 'JM ELSS Tax Saver Fund (Direct) - Growth Option'},\n",
      " {'schemeCode': 120503,\n",
      "  'schemeName': 'Axis ELSS Tax Saver Fund - Direct Plan - Growth Option'},\n",
      " {'schemeCode': 120592,\n",
      "  'schemeName': 'ICICI Prudential ELSS Tax Saver Fund - Direct Plan - Growth'},\n",
      " {'schemeCode': 120715,\n",
      "  'schemeName': 'UTI ELSS Tax Saver Fund - Direct Plan - Growth Option'},\n",
      " {'schemeCode': 120847,\n",
      "  'schemeName': 'quant ELSS Tax Saver Fund - Growth Option - Direct Plan'},\n",
      " {'schemeCode': 132756,\n",
      "  'schemeName': 'Tata ELSS Tax Saver Fund-Growth-Direct Plan'},\n",
      " {'schemeCode': 133386,\n",
      "  'schemeName': 'Motilal Oswal ELSS Tax Saver Fund - Direct Plan - Growth '\n",
      "                'Option'},\n",
      " {'schemeCode': 134045,\n",
      "  'schemeName': 'Baroda ELSS 96 Plan B(Direct) -Growth Option'},\n",
      " {'schemeCode': 134045,\n",
      "  'schemeName': 'Baroda Pioneer ELSS 96 Plan B(Direct) -Growth Option'},\n",
      " {'schemeCode': 135601,\n",
      "  'schemeName': 'PGIM India ELSS Tax Saver Fund - Direct Plan - Growth Option'},\n",
      " {'schemeCode': 135654,\n",
      "  'schemeName': 'Navi ELSS Tax Saver Fund- Direct Plan- Growth Option'},\n",
      " {'schemeCode': 135781,\n",
      "  'schemeName': 'Mirae Asset ELSS Tax Saver Fund - Direct Plan - Growth'},\n",
      " {'schemeCode': 139781,\n",
      "  'schemeName': 'Mahindra Manulife ELSS Tax Saver Fund - Direct Plan -Growth'},\n",
      " {'schemeCode': 139781,\n",
      "  'schemeName': 'Mahindra Manulife ELSS Fund - Direct Plan -Growth'},\n",
      " {'schemeCode': 139781,\n",
      "  'schemeName': 'Mahindra Manulife ELSS Kar Bachat Yojana Direct Plan - '\n",
      "                'Growth'},\n",
      " {'schemeCode': 139781,\n",
      "  'schemeName': 'Mahindra Manulife ELSS Kar Bachat Yojana - Direct Plan '\n",
      "                '-Growth'},\n",
      " {'schemeCode': 141808,\n",
      "  'schemeName': 'Groww ELSS Tax Saver Fund (formerly known as Indiabulls Tax '\n",
      "                'Savings Fund)- Direct Plan- Growth Option'},\n",
      " {'schemeCode': 145819,\n",
      "  'schemeName': 'Shriram ELSS Tax Saver Fund - Direct Growth'},\n",
      " {'schemeCode': 147481,\n",
      "  'schemeName': 'Parag Parikh ELSS Tax Saver Fund- Direct Growth'},\n",
      " {'schemeCode': 147541,\n",
      "  'schemeName': 'ITI ELSS Tax Saver Fund - Direct Plan - Growth Option'},\n",
      " {'schemeCode': 149570,\n",
      "  'schemeName': 'Sundaram ELSS Tax Saver Fund Direct Plan Growth'},\n",
      " {'schemeCode': 150159,\n",
      "  'schemeName': 'BARODA BNP PARIBAS ELSS Tax Saver Fund - Direct Plan - Growth '\n",
      "                'Option'},\n",
      " {'schemeCode': 150159,\n",
      "  'schemeName': 'BARODA BNP PARIBAS ELSS Fund - Direct Plan - Growth Option'},\n",
      " {'schemeCode': 150587,\n",
      "  'schemeName': 'WhiteOak Capital ELSS Tax Saver Fund Direct Plan Growth'},\n",
      " {'schemeCode': 150838,\n",
      "  'schemeName': 'Samco ELSS Tax Saver Fund - Direct Plan - Growth Option'},\n",
      " {'schemeCode': 151078,\n",
      "  'schemeName': 'HSBC ELSS Tax saver Fund - Direct Growth'},\n",
      " {'schemeCode': 151078, 'schemeName': 'HSBC ELSS Fund - Direct Growth'},\n",
      " {'schemeCode': 151165,\n",
      "  'schemeName': '360 ONE ELSS Nifty 50 Tax Saver Index Fund - Direct Plan - '\n",
      "                'Growth'},\n",
      " {'schemeCode': 151165,\n",
      "  'schemeName': '360 ONE ELSS Tax Saver Nifty 50 Index Fund - Direct Plan - '\n",
      "                'Growth'},\n",
      " {'schemeCode': 151165,\n",
      "  'schemeName': 'IIFL ELSS Nifty 50 Tax Saver Index Fund - Direct Plan - '\n",
      "                'Growth'},\n",
      " {'schemeCode': 151611, 'schemeName': 'NJ ELSS Tax Saver Scheme Direct Growth'},\n",
      " {'schemeCode': 152157,\n",
      "  'schemeName': 'Zerodha ELSS Tax Saver Nifty LargeMidcap 250 Index Fund - '\n",
      "                'Direct Plan - Growth option'}]\n"
     ]
    }
   ],
   "source": [
    "pprint(tax_saving_lst)"
   ]
  },
  {
   "cell_type": "code",
   "execution_count": 73,
   "metadata": {},
   "outputs": [
    {
     "ename": "FileNotFoundError",
     "evalue": "[Errno 2] No such file or directory: 'Mutual-Fund-Dashboard/output/mf_elss.json'",
     "output_type": "error",
     "traceback": [
      "\u001b[1;31m---------------------------------------------------------------------------\u001b[0m",
      "\u001b[1;31mFileNotFoundError\u001b[0m                         Traceback (most recent call last)",
      "Cell \u001b[1;32mIn[73], line 6\u001b[0m\n\u001b[0;32m      3\u001b[0m file_path \u001b[38;5;241m=\u001b[39m main_path \u001b[38;5;241m+\u001b[39m file_name\n\u001b[0;32m      5\u001b[0m \u001b[38;5;66;03m# Writing the JSON list to a file\u001b[39;00m\n\u001b[1;32m----> 6\u001b[0m \u001b[38;5;28;01mwith\u001b[39;00m \u001b[38;5;28;43mopen\u001b[39;49m\u001b[43m(\u001b[49m\u001b[43mfile_path\u001b[49m\u001b[43m,\u001b[49m\u001b[43m \u001b[49m\u001b[38;5;124;43m'\u001b[39;49m\u001b[38;5;124;43mw\u001b[39;49m\u001b[38;5;124;43m'\u001b[39;49m\u001b[43m)\u001b[49m \u001b[38;5;28;01mas\u001b[39;00m json_file:\n\u001b[0;32m      7\u001b[0m     json\u001b[38;5;241m.\u001b[39mdump(tax_saving_lst, json_file)\n\u001b[0;32m      9\u001b[0m \u001b[38;5;28mprint\u001b[39m(\u001b[38;5;124m\"\u001b[39m\u001b[38;5;124mJSON file saved successfully.\u001b[39m\u001b[38;5;124m\"\u001b[39m)\n",
      "File \u001b[1;32md:\\Career\\PROJECT\\2) MF Dashboard\\mf_env\\lib\\site-packages\\IPython\\core\\interactiveshell.py:310\u001b[0m, in \u001b[0;36m_modified_open\u001b[1;34m(file, *args, **kwargs)\u001b[0m\n\u001b[0;32m    303\u001b[0m \u001b[38;5;28;01mif\u001b[39;00m file \u001b[38;5;129;01min\u001b[39;00m {\u001b[38;5;241m0\u001b[39m, \u001b[38;5;241m1\u001b[39m, \u001b[38;5;241m2\u001b[39m}:\n\u001b[0;32m    304\u001b[0m     \u001b[38;5;28;01mraise\u001b[39;00m \u001b[38;5;167;01mValueError\u001b[39;00m(\n\u001b[0;32m    305\u001b[0m         \u001b[38;5;124mf\u001b[39m\u001b[38;5;124m\"\u001b[39m\u001b[38;5;124mIPython won\u001b[39m\u001b[38;5;124m'\u001b[39m\u001b[38;5;124mt let you open fd=\u001b[39m\u001b[38;5;132;01m{\u001b[39;00mfile\u001b[38;5;132;01m}\u001b[39;00m\u001b[38;5;124m by default \u001b[39m\u001b[38;5;124m\"\u001b[39m\n\u001b[0;32m    306\u001b[0m         \u001b[38;5;124m\"\u001b[39m\u001b[38;5;124mas it is likely to crash IPython. If you know what you are doing, \u001b[39m\u001b[38;5;124m\"\u001b[39m\n\u001b[0;32m    307\u001b[0m         \u001b[38;5;124m\"\u001b[39m\u001b[38;5;124myou can use builtins\u001b[39m\u001b[38;5;124m'\u001b[39m\u001b[38;5;124m open.\u001b[39m\u001b[38;5;124m\"\u001b[39m\n\u001b[0;32m    308\u001b[0m     )\n\u001b[1;32m--> 310\u001b[0m \u001b[38;5;28;01mreturn\u001b[39;00m io_open(file, \u001b[38;5;241m*\u001b[39margs, \u001b[38;5;241m*\u001b[39m\u001b[38;5;241m*\u001b[39mkwargs)\n",
      "\u001b[1;31mFileNotFoundError\u001b[0m: [Errno 2] No such file or directory: 'Mutual-Fund-Dashboard/output/mf_elss.json'"
     ]
    }
   ],
   "source": [
    "file_name = \"mf_elss.json\"\n",
    "\n",
    "# Writing the JSON list to a file\n",
    "with open(file_name, 'w') as json_file:\n",
    "    json.dump(tax_saving_lst, json_file)\n",
    "\n",
    "print(\"JSON file saved successfully.\")"
   ]
  },
  {
   "cell_type": "code",
   "execution_count": null,
   "metadata": {},
   "outputs": [],
   "source": []
  }
 ],
 "metadata": {
  "kernelspec": {
   "display_name": "mf_env",
   "language": "python",
   "name": "python3"
  },
  "language_info": {
   "codemirror_mode": {
    "name": "ipython",
    "version": 3
   },
   "file_extension": ".py",
   "mimetype": "text/x-python",
   "name": "python",
   "nbconvert_exporter": "python",
   "pygments_lexer": "ipython3",
   "version": "3.10.6"
  }
 },
 "nbformat": 4,
 "nbformat_minor": 2
}
